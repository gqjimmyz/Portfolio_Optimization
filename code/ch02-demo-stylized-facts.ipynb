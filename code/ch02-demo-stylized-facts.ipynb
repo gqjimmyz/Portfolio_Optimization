{
 "cells": [
  {
   "cell_type": "markdown",
   "id": "903d9e16",
   "metadata": {},
   "source": [
    "# Ch02 - Financial Data: Stylized Facts"
   ]
  },
  {
   "cell_type": "markdown",
   "id": "020c7142",
   "metadata": {},
   "source": [
    "#### Packages\n",
    "The following packages are used in the example:"
   ]
  },
  {
   "cell_type": "code",
   "execution_count": 5,
   "id": "18232bc7",
   "metadata": {},
   "outputs": [],
   "source": [
    "# Core data handling\n",
    "import yfinance as yf\n",
    "import numpy as np\n",
    "import pandas as pd\n",
    "\n",
    "# Book data (pip install \"git+https://github.com/dppalomar/pob.git#subdirectory=python\")\n",
    "from pob_python import SP500_stocks_2015to2020, cryptos_2017to2021_daily\n",
    "\n",
    "# Statistical analysis\n",
    "from scipy.stats import norm, skew, kurtosis \n",
    "import arch\n",
    "\n",
    "# Visualization\n",
    "import matplotlib.pyplot as plt\n",
    "import seaborn as sns\n",
    "sns.set_theme(style='darkgrid')\n",
    "import statsmodels.api as sm\n",
    "from statsmodels.graphics.tsaplots import plot_acf, plot_pacf"
   ]
  },
  {
   "cell_type": "code",
   "execution_count": null,
   "id": "dd992596",
   "metadata": {},
   "outputs": [],
   "source": []
  },
  {
   "cell_type": "markdown",
   "id": "0662d8fc",
   "metadata": {},
   "source": [
    "### Prices and returns "
   ]
  },
  {
   "cell_type": "markdown",
   "id": "69416497",
   "metadata": {},
   "source": [
    "1. "
   ]
  },
  {
   "cell_type": "code",
   "execution_count": null,
   "id": "af07eb25",
   "metadata": {},
   "outputs": [],
   "source": []
  }
 ],
 "metadata": {
  "kernelspec": {
   "display_name": ".venv",
   "language": "python",
   "name": "python3"
  },
  "language_info": {
   "codemirror_mode": {
    "name": "ipython",
    "version": 3
   },
   "file_extension": ".py",
   "mimetype": "text/x-python",
   "name": "python",
   "nbconvert_exporter": "python",
   "pygments_lexer": "ipython3",
   "version": "3.13.3"
  }
 },
 "nbformat": 4,
 "nbformat_minor": 5
}
